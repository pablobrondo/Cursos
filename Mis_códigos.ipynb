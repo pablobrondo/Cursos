{
  "nbformat": 4,
  "nbformat_minor": 0,
  "metadata": {
    "colab": {
      "name": "Mis códigos",
      "provenance": [],
      "authorship_tag": "ABX9TyMrev73xSkeVzcDbdAcAKJr",
      "include_colab_link": true
    },
    "kernelspec": {
      "name": "python3",
      "display_name": "Python 3"
    },
    "language_info": {
      "name": "python"
    }
  },
  "cells": [
    {
      "cell_type": "markdown",
      "metadata": {
        "id": "view-in-github",
        "colab_type": "text"
      },
      "source": [
        "<a href=\"https://colab.research.google.com/github/pablobrondo/Cursos/blob/main/Mis_c%C3%B3digos.ipynb\" target=\"_parent\"><img src=\"https://colab.research.google.com/assets/colab-badge.svg\" alt=\"Open In Colab\"/></a>"
      ]
    },
    {
      "cell_type": "markdown",
      "metadata": {
        "id": "E2FH7ZO618QK"
      },
      "source": [
        "#Primer título de prueba"
      ]
    },
    {
      "cell_type": "markdown",
      "metadata": {
        "id": "oQVVk4dgOAZc"
      },
      "source": [
        ">Primer trabajo\n",
        ">>Segundo espacio\n",
        "  "
      ]
    },
    {
      "cell_type": "code",
      "metadata": {
        "id": "ir57Hlyc1h5F"
      },
      "source": [
        "print('Hola Mundo')"
      ],
      "execution_count": null,
      "outputs": []
    },
    {
      "cell_type": "code",
      "metadata": {
        "id": "meJtoiHQPFlP"
      },
      "source": [
        "x=89\n",
        "x"
      ],
      "execution_count": null,
      "outputs": []
    },
    {
      "cell_type": "code",
      "metadata": {
        "id": "MaQ3UxFUPL-1"
      },
      "source": [
        "v='a ver este mensaje'\n",
        "v"
      ],
      "execution_count": null,
      "outputs": []
    },
    {
      "cell_type": "code",
      "metadata": {
        "id": "DG6XjQg_PikN"
      },
      "source": [
        "x.__add__(5)"
      ],
      "execution_count": null,
      "outputs": []
    },
    {
      "cell_type": "code",
      "metadata": {
        "id": "HK5ZsJ1KQi6I"
      },
      "source": [
        "x=10.2\n",
        "dir(x)"
      ],
      "execution_count": null,
      "outputs": []
    },
    {
      "cell_type": "code",
      "metadata": {
        "colab": {
          "base_uri": "https://localhost:8080/"
        },
        "id": "_9rNODmtRxOd",
        "outputId": "ccb8831c-2ff5-4e0f-8136-dceeb5d3e56f"
      },
      "source": [
        "type(x)"
      ],
      "execution_count": null,
      "outputs": [
        {
          "output_type": "execute_result",
          "data": {
            "text/plain": [
              "float"
            ]
          },
          "metadata": {},
          "execution_count": 7
        }
      ]
    },
    {
      "cell_type": "code",
      "metadata": {
        "colab": {
          "base_uri": "https://localhost:8080/"
        },
        "id": "mW9IefchmEBn",
        "outputId": "c9a816b1-af02-4e03-afcf-da564b9e2831"
      },
      "source": [
        "a=1\n",
        "b=2\n",
        "print(f'El primer valor es {a} y el segundo valor es {b}')"
      ],
      "execution_count": null,
      "outputs": [
        {
          "output_type": "stream",
          "name": "stdout",
          "text": [
            "El primer valor es 1 y el segundo valor es2\n"
          ]
        }
      ]
    },
    {
      "cell_type": "code",
      "metadata": {
        "colab": {
          "base_uri": "https://localhost:8080/"
        },
        "id": "uAMeN6demU3t",
        "outputId": "52853077-ad0e-403b-b85d-01e47f0a41ec"
      },
      "source": [
        "print(f'El valor de b es {1} y el valor de a es {0}',format(str(a),str(b)))  # Format requiere strings como argumentos"
      ],
      "execution_count": null,
      "outputs": [
        {
          "output_type": "stream",
          "name": "stdout",
          "text": [
            "El valor de b es 1 y el valor de a es 0 1 \n"
          ]
        }
      ]
    },
    {
      "cell_type": "code",
      "metadata": {
        "id": "3P45xJZTm_w9"
      },
      "source": [
        ""
      ],
      "execution_count": null,
      "outputs": []
    }
  ]
}